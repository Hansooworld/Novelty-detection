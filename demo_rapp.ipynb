{
 "cells": [
  {
   "cell_type": "code",
   "execution_count": 1,
   "metadata": {},
   "outputs": [],
   "source": [
    "import torch\n",
    "import torch.nn as nn\n",
    "import torch.nn.functional as F\n",
    "import matplotlib.pyplot as plt\n",
    "import numpy as np\n",
    "from class_cvae import ConditionalVariationalAutoEncoder"
   ]
  },
  {
   "cell_type": "code",
   "execution_count": 2,
   "metadata": {},
   "outputs": [
    {
     "name": "stdout",
     "output_type": "stream",
     "text": [
      "original qpos shape: (100, 101, 8)\n"
     ]
    }
   ],
   "source": [
    "qpos = np.load('snapbot_data/forward.npy')\n",
    "tpos = np.load('snapbot_data/forward.npy')\n",
    "qpos = qpos[:100,:,:]\n",
    "print(\"original qpos shape: {}\".format(qpos.shape))"
   ]
  },
  {
   "cell_type": "code",
   "execution_count": 3,
   "metadata": {},
   "outputs": [
    {
     "name": "stdout",
     "output_type": "stream",
     "text": [
      "train qpos shape: torch.Size([100, 120])\n"
     ]
    }
   ],
   "source": [
    "train_q = torch.FloatTensor(qpos[:,::7,:].reshape(qpos.shape[0], -1))\n",
    "train_t = torch.FloatTensor(tpos[:,::7,:].reshape(tpos.shape[0], -1))\n",
    "print(\"train qpos shape: {}\".format(train_q.shape))"
   ]
  },
  {
   "cell_type": "code",
   "execution_count": 4,
   "metadata": {},
   "outputs": [
    {
     "name": "stdout",
     "output_type": "stream",
     "text": [
      "novel qpos shape: torch.Size([1000, 120])\n"
     ]
    }
   ],
   "source": [
    "novel_qpos = np.load('snapbot_data/right.npy')\n",
    "novel_q = torch.FloatTensor(novel_qpos[:,::7,:].reshape(novel_qpos.shape[0], -1))\n",
    "print(\"novel qpos shape: {}\".format(novel_q.shape))"
   ]
  },
  {
   "cell_type": "code",
   "execution_count": 5,
   "metadata": {},
   "outputs": [],
   "source": [
    "CVAE = ConditionalVariationalAutoEncoder(\n",
    "        name     = 'DLPG',              \n",
    "        x_dim    = 120,             # input dimension\n",
    "        c_dim    = 0,               # condition dimension\n",
    "        z_dim    = 2,               # latent dimension\n",
    "        h_dims   = [64,32],         # hidden dimensions of encoder (and decoder)\n",
    "        actv_enc = nn.ReLU(),       # encoder activation\n",
    "        actv_dec = nn.ReLU(),       # decoder activation\n",
    "        actv_out = None,            # output activation\n",
    "        var_max  = None,            # maximum variance\n",
    "        device   = 'cpu'\n",
    ")"
   ]
  },
  {
   "cell_type": "code",
   "execution_count": 6,
   "metadata": {},
   "outputs": [
    {
     "data": {
      "image/png": "[encoded data removed]",
      "text/plain": [
       "<Figure size 432x288 with 1 Axes>"
      ]
     },
     "metadata": {
      "needs_background": "light"
     },
     "output_type": "display_data"
    }
   ],
   "source": [
    "loss = CVAE.update(\n",
    "                x = train_q,\n",
    "                c = None,\n",
    "                lr = 0.01,\n",
    "                max_iter = 10,\n",
    "                batch_size = 3\n",
    "                )\n",
    "\n",
    "plt.figure()\n",
    "plt.plot(loss)\n",
    "plt.show()"
   ]
  },
  {
   "cell_type": "code",
   "execution_count": 7,
   "metadata": {},
   "outputs": [
    {
     "data": {
      "text/plain": [
       "(1000, 1)"
      ]
     },
     "execution_count": 7,
     "metadata": {},
     "output_type": "execute_result"
    }
   ],
   "source": [
    "recon_loss = []\n",
    "for i in range(1000):\n",
    "    recon_q = CVAE.xc_to_x_recon(x=train_t[i], c=None)\n",
    "    # recon_loss += F.mse_loss(recon_q, train_q[i])\n",
    "    recon_loss.append(F.mse_loss(recon_q, train_t[i]).item())\n",
    "\n",
    "original_uncertainty = np.array(recon_loss).reshape(-1,1)\n",
    "original_uncertainty.shape\n"
   ]
  },
  {
   "cell_type": "code",
   "execution_count": 8,
   "metadata": {},
   "outputs": [
    {
     "data": {
      "text/plain": [
       "(1000, 1)"
      ]
     },
     "execution_count": 8,
     "metadata": {},
     "output_type": "execute_result"
    }
   ],
   "source": [
    "recon_loss = []\n",
    "for i in range(1000):\n",
    "    recon_q = CVAE.xc_to_x_recon(x=novel_q[i], c=None)\n",
    "    # recon_loss += F.mse_loss(recon_q, novel_q[i])\n",
    "    recon_loss.append(F.mse_loss(recon_q, novel_q[i]).item())\n",
    "novelty_uncertainty = np.array(recon_loss).reshape(-1,1)\n",
    "novelty_uncertainty.shape"
   ]
  },
  {
   "cell_type": "code",
   "execution_count": 9,
   "metadata": {},
   "outputs": [],
   "source": [
    "total_uncertainty = np.concatenate((original_uncertainty, novelty_uncertainty),axis=0)"
   ]
  },
  {
   "cell_type": "code",
   "execution_count": 10,
   "metadata": {},
   "outputs": [],
   "source": [
    "forward_label = np.zeros(1000)\n",
    "novelty_label = np.ones(1000)\n",
    "total_label   = np.concatenate((forward_label, novelty_label), axis=0)"
   ]
  },
  {
   "cell_type": "code",
   "execution_count": 11,
   "metadata": {},
   "outputs": [
    {
     "data": {
      "image/png": "[encoded data removed]",
      "text/plain": [
       "<Figure size 432x288 with 1 Axes>"
      ]
     },
     "metadata": {
      "needs_background": "light"
     },
     "output_type": "display_data"
    },
    {
     "name": "stdout",
     "output_type": "stream",
     "text": [
      "0.8254059999999999\n"
     ]
    }
   ],
   "source": [
    "from sklearn import metrics\n",
    "from sklearn.metrics import precision_recall_curve,auc, roc_auc_score, roc_curve \n",
    "\n",
    "fpr, tpr, thresholds = metrics.roc_curve(total_label, total_uncertainty)\n",
    "auc = roc_auc_score(total_label, total_uncertainty)\n",
    "plt.plot(fpr, tpr, linestyle='--', label='AUROC Curve')\n",
    "# axis labels\n",
    "plt.xlabel('False Positive Rate')\n",
    "plt.ylabel('True Positive Rate')\n",
    "# show the legend\n",
    "plt.legend()\n",
    "# show the plot\n",
    "plt.title(\"AUROC\")\n",
    "plt.show()\n",
    "print(auc)"
   ]
  },
  {
   "cell_type": "code",
   "execution_count": 12,
   "metadata": {},
   "outputs": [
    {
     "data": {
      "image/png": "[encoded data removed]",
      "text/plain": [
       "<Figure size 432x288 with 1 Axes>"
      ]
     },
     "metadata": {
      "needs_background": "light"
     },
     "output_type": "display_data"
    }
   ],
   "source": [
    "precision, recall, thresholds = precision_recall_curve(total_label, total_uncertainty)\n",
    "plt.plot(recall[:-1],precision[:-1])\n",
    "plt.title(\"Precision\")\n",
    "plt.plot(recall, precision)\n",
    "plt.xlabel(\"recall\")\n",
    "plt.ylabel(\"Precision\")\n",
    "plt.show()"
   ]
  },
  {
   "cell_type": "code",
   "execution_count": 13,
   "metadata": {},
   "outputs": [],
   "source": [
    "recon_loss = []\n",
    "for i in range(1000):\n",
    "    loss = 0\n",
    "    x_recon               = CVAE.xc_to_x_recon(x=train_t[i], c=None)\n",
    "    original_hidden_value = CVAE.xc_to_h(x=train_t[i], c=None)\n",
    "    recon_hidden_value    = CVAE.xc_to_h(x=x_recon, c=None)\n",
    "    # recon_loss += F.mse_loss(recon_q, train_q[i])\n",
    "    for i, j in zip(original_hidden_value, recon_hidden_value):\n",
    "        loss += F.mse_loss(i,j)\n",
    "    recon_loss.append(loss)\n",
    "\n",
    "original_uncertainty = np.array(recon_loss).reshape(-1,1)"
   ]
  },
  {
   "cell_type": "code",
   "execution_count": 14,
   "metadata": {},
   "outputs": [],
   "source": [
    "recon_loss = []\n",
    "for i in range(1000):\n",
    "    loss = 0\n",
    "    x_recon               = CVAE.xc_to_x_recon(x=novel_q[i], c=None)\n",
    "    original_hidden_value = CVAE.xc_to_h(x=novel_q[i], c=None)\n",
    "    recon_hidden_value    = CVAE.xc_to_h(x=x_recon, c=None)\n",
    "    # recon_loss += F.mse_loss(recon_q, train_q[i])\n",
    "    for i, j in zip(original_hidden_value, recon_hidden_value):\n",
    "        loss += F.mse_loss(i,j)\n",
    "    recon_loss.append(loss)\n",
    "\n",
    "novelty_uncertainty = np.array(recon_loss).reshape(-1,1)"
   ]
  },
  {
   "cell_type": "code",
   "execution_count": 15,
   "metadata": {},
   "outputs": [],
   "source": [
    "total_hidden_uncertainty = np.concatenate((original_uncertainty, novelty_uncertainty),axis=0)"
   ]
  },
  {
   "cell_type": "code",
   "execution_count": 16,
   "metadata": {},
   "outputs": [
    {
     "data": {
      "image/png": "[encoded data removed]",
      "text/plain": [
       "<Figure size 432x288 with 1 Axes>"
      ]
     },
     "metadata": {
      "needs_background": "light"
     },
     "output_type": "display_data"
    },
    {
     "name": "stdout",
     "output_type": "stream",
     "text": [
      "1.0\n"
     ]
    }
   ],
   "source": [
    "from sklearn import metrics\n",
    "from sklearn.metrics import precision_recall_curve,auc, roc_auc_score, roc_curve \n",
    "\n",
    "fpr, tpr, thresholds = metrics.roc_curve(total_label, total_hidden_uncertainty)\n",
    "auc = roc_auc_score(total_label, total_hidden_uncertainty)\n",
    "plt.plot(fpr, tpr, linestyle='--', label='AUROC Curve')\n",
    "# axis labels\n",
    "plt.xlabel('False Positive Rate')\n",
    "plt.ylabel('True Positive Rate')\n",
    "# show the legend\n",
    "plt.legend()\n",
    "# show the plot\n",
    "plt.title(\"AUROC\")\n",
    "plt.show()\n",
    "print(auc)"
   ]
  },
  {
   "cell_type": "code",
   "execution_count": 17,
   "metadata": {},
   "outputs": [
    {
     "data": {
      "image/png": "[encoded data removed]",
      "text/plain": [
       "<Figure size 432x288 with 1 Axes>"
      ]
     },
     "metadata": {
      "needs_background": "light"
     },
     "output_type": "display_data"
    }
   ],
   "source": [
    "precision, recall, thresholds = precision_recall_curve(total_label, total_hidden_uncertainty)\n",
    "plt.plot(recall[:-1],precision[:-1])\n",
    "plt.title(\"Precision\")\n",
    "plt.plot(recall, precision)\n",
    "plt.xlabel(\"recall\")\n",
    "plt.ylabel(\"Precision\")\n",
    "plt.show()"
   ]
  },
  {
   "cell_type": "code",
   "execution_count": null,
   "metadata": {},
   "outputs": [],
   "source": []
  }
 ],
 "metadata": {
  "kernelspec": {
   "display_name": "Python 3.8.13 ('main')",
   "language": "python",
   "name": "python3"
  },
  "language_info": {
   "codemirror_mode": {
    "name": "ipython",
    "version": 3
   },
   "file_extension": ".py",
   "mimetype": "text/x-python",
   "name": "python",
   "nbconvert_exporter": "python",
   "pygments_lexer": "ipython3",
   "version": "3.8.13"
  },
  "orig_nbformat": 4,
  "vscode": {
   "interpreter": {
    "hash": "9e03dfecbcda9621f311de55d4309696f17565c764ec23a389b7b66e478d2973"
   }
  }
 },
 "nbformat": 4,
 "nbformat_minor": 2
}
